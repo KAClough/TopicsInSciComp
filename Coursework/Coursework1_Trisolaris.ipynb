{
 "cells": [
  {
   "cell_type": "markdown",
   "id": "8677fe39",
   "metadata": {},
   "source": [
    "# Coursework 1 : The three body problem\n",
    "\n",
    "You should complete your coursework in this notebook and hand it in *via QMPlus* by 5pm on Friday of week 9 (24 November).\n",
    "\n",
    "The broad goal of the project is to write code to model coplanar stellar systems (i.e., all the motion is in the x and y directions) with up to three stars.\n",
    "\n",
    "## Your code must model the following 3 scenarios\n",
    "\n",
    "1. A two body system made up of two stars with a mass ratio 1:2 undergoing multiple stable orbits (which may be elliptic). The stars obey Newton's law:\n",
    "\n",
    "    $\\vec{F}_{12} = - \\frac{G m_1 ~ m_2 }{|r_{12}|^2} \\frac{\\vec{r}_{12}}{|\\vec{r}_{12}|}$\n",
    "\n",
    "    (You can work in units in which we set $G=1$ and the masses are order 1 numbers, but you can also choose to work in real units, as you prefer.)\n",
    "\n",
    "2. A three body system made up of 3 stars of equal mass. Stars are assumed to be point like objects and so they cannot collide with each other (they simply pass through if at the same location). Model the stable solution discovered by Cris Moore and proved by Chenciner and Montgomery, described [here](https://arxiv.org/abs/math/0011268) and one in which they display chaotic behaviour, with one star being ejected from the system.\n",
    "\n",
    "3. You now have a system of hypergiants. Hypergiants are the most massive stars, and so they cannot be treated as point like objects. Now if they get within some distance of each other, they should merge (*HINT: maybe we could say that they \"add\" themselves...*) into a single hypergiant with a combined mass of the two objects. Since momentum is conserved, we will also require that:\n",
    "\n",
    "    $(m_1 + m_2)\\vec{v}_{new} = m_1 \\vec{v}_1 + m_2 \\vec{v}_2$\n",
    "\n",
    "    In this case, set up initial conditions so that you have 3 hypergiants initially, and a few orbits are obtained before a merger of two of the objects. The hypergiants should have 3 similar but different masses, e.g. a ratio of 0.8 : 1.0 : 1.2. You can choose the distance at which they merge, but it should be proportional to the masses of the two objects that are merging.\n",
    "\n",
    "## Required components\n",
    "\n",
    "To obtain full marks your solutions must include the following components:\n",
    "\n",
    "1. Classes for stars, supergiants and stellar systems with multiple star components. Use of inheritance where possible and appropriate \n",
    "\n",
    "_(HINT: try to think ahead - what features of scenario 1 might you want to reuse in scenarios 2 and 3? You can save time coding by making it sufficiently general from the start.)_\n",
    "\n",
    "2. Plots of the orbital trajectories of the stars over time\n",
    "\n",
    "3. Phase diagrams for the position and velocities of the component stars.\n",
    "\n",
    "4. Comparison of two explicit integration techniques - the first should be scipy's solve_ivp() and the second should be the midpoint method (or another Runge Kutta method of specified order). For the latter you should confirm the order of convergence of the solution is as expected.\n",
    "\n",
    "_(HINT: you may want to investigate the rtol parameter for solve_ivp().)_\n",
    "\n",
    "5. Documentation of the code appropriate for new users who have a basic familiarity with python and ODEs (your colleagues on this course, for example!), implemented in markdown around the code blocks.\n",
    "\n",
    "6. Defensive programming techniques including asserts and tests of key functionality\n",
    "\n",
    "\n",
    "## Marking scheme\n",
    "\n",
    "   - 50% for working code that correctly implements all of the requested physical scenarios\n",
    "   - 20% for use of defensive programming techniques - asserts and tests implemented to prevent user error and check functioning correctly, including a convergence test\n",
    "   - 20% for readability of code, following the agreed naming conventions of the course, appropriate commenting\n",
    "   - 10% for appropriate documentation of the code implemented in markdown format\n"
   ]
  },
  {
   "cell_type": "code",
   "execution_count": 1,
   "id": "0d8bde64",
   "metadata": {},
   "outputs": [],
   "source": [
    "# Add your coursework here!\n"
   ]
  }
 ],
 "metadata": {
  "kernelspec": {
   "display_name": "Python 3 (ipykernel)",
   "language": "python",
   "name": "python3"
  },
  "language_info": {
   "codemirror_mode": {
    "name": "ipython",
    "version": 3
   },
   "file_extension": ".py",
   "mimetype": "text/x-python",
   "name": "python",
   "nbconvert_exporter": "python",
   "pygments_lexer": "ipython3",
   "version": "3.9.7"
  }
 },
 "nbformat": 4,
 "nbformat_minor": 5
}
