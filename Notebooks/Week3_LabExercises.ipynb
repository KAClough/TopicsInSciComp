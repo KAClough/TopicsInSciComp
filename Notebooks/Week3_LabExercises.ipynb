{
 "cells": [
  {
   "cell_type": "markdown",
   "id": "8677fe39",
   "metadata": {},
   "source": [
    "## Week 3 Lab exercises\n",
    "\n",
    "In this week we will explore the concept of object oreinted programming (OOP) with classes, and the numerical solution of simple non linear ordinary differential equations (ODEs). "
   ]
  },
  {
   "cell_type": "code",
   "execution_count": 1,
   "id": "0d8bde64",
   "metadata": {},
   "outputs": [],
   "source": [
    "# first we import the libraries we need\n",
    "import numpy as np\n",
    "import matplotlib.pyplot as plt\n",
    "\n",
    "# The following lines makes the plots appear inline in the notebook\n",
    "%matplotlib inline"
   ]
  },
  {
   "cell_type": "markdown",
   "id": "2b399aad",
   "metadata": {},
   "source": [
    "### ACTIVITY 1: \n",
    "I have written a class below for a Point object, which encapsulates the idea of a point and things we might want to do to it. \n",
    "\n",
    "Here you will write another class object for a Rectangle. You should consider and implement the following points:\n",
    "\n",
    "1. What is the minimum information that is needed to fully describe a rectangle and its position in space? Assume for simplicity that its edges are aligned with the x and y axes.\n",
    "\n",
    "2. Implement functions to:\n",
    "\n",
    "    a. reflect the rectangle in the x and y axes\n",
    "    \n",
    "    b. grow the rectangle by an amount in x and y with the bottom left corner fixed\n",
    "    \n",
    "    c. grow the rectangle by an amount in x and y with the top right corner fixed\n",
    "    \n",
    "    d. plot the rectangle\n",
    "\n",
    "\n",
    "3. What should be checked here? Can you add some asserts? Do you need to test the functions?\n",
    "\n",
    "4. Would some of the methods needed make more sense to be implemented in the Points class instead of the Rectangle class? If so go ahead and edit it!"
   ]
  },
  {
   "cell_type": "code",
   "execution_count": 2,
   "id": "2bceae51",
   "metadata": {},
   "outputs": [
    {
     "name": "stdout",
     "output_type": "stream",
     "text": [
      "Point  P is 1.0 2.0\n",
      "Point  Q is 4.0 7.5\n",
      "Point  R is 5.0 9.5\n",
      "Distance is  6.264982043070834\n",
      "42\n"
     ]
    },
    {
     "data": {
      "image/png": "[encoded data removed]",
      "text/plain": [
       "<Figure size 640x480 with 1 Axes>"
      ]
     },
     "metadata": {},
     "output_type": "display_data"
    }
   ],
   "source": [
    "# Points class\n",
    "\n",
    "class Point :\n",
    "    \"\"\"\n",
    "    Represents a point in a 2D space\n",
    "    \n",
    "    attributes: x, y, name\n",
    "    \n",
    "    \"\"\"\n",
    "    \n",
    "    # constructor function\n",
    "    # The double underscores indicate a private method or variable\n",
    "    # not to be accessed outside the class (in principle)\n",
    "    def __init__(self, x=0.0, y=0.0, name = \"\"):\n",
    "        self.x = x\n",
    "        self.y = y\n",
    "        self.name = name\n",
    "        self.__private_variable = 42\n",
    "        \n",
    "    def __add__(self, other) :\n",
    "        new_point = Point(self.x+other.x, self.y+other.y)\n",
    "        return new_point\n",
    "    \n",
    "    def print_point(self) :\n",
    "        print(\"Point \", self.name, \"is\", self.x, self.y)\n",
    "        \n",
    "    # Note that we don't use self here so don't need to pass it in\n",
    "    # (This is a static function - it does not require an instance of the class)\n",
    "    def calculate_distance_between_two_points(A, B) :\n",
    "        return np.sqrt((A.x - B.x)**2.0 + (A.y - B.y)**2.0)\n",
    "    \n",
    "    def move_point(self,dx,dy) :\n",
    "        self.x += dx\n",
    "        self.y += dy\n",
    "        \n",
    "    def plot_point(self, ax) :\n",
    "        ax.plot(self.x, self.y, 'o', label=self.name)\n",
    "        \n",
    "    def update_name(self, new_name) :\n",
    "        self.name = new_name\n",
    "        \n",
    "        \n",
    "# Some examples of using the Points class\n",
    "first_point = Point(1.0,2.0,\"P\")\n",
    "first_point.print_point()\n",
    "\n",
    "second_point = Point(3.0,5.5,\"Q\")\n",
    "second_point.move_point(1.0, 2.0)\n",
    "second_point.print_point()\n",
    "\n",
    "third_point = first_point + second_point\n",
    "third_point.update_name(\"R\")\n",
    "third_point.print_point()\n",
    "\n",
    "# Use the static function\n",
    "distance = Point.calculate_distance_between_two_points(first_point,second_point)\n",
    "print(\"Distance is \", distance)\n",
    "\n",
    "plt.plot()\n",
    "plt.grid()\n",
    "plt.xlabel(\"x position\")\n",
    "plt.ylabel(\"y position\")\n",
    "ax = plt.gcf().gca()\n",
    "first_point.plot_point(ax)\n",
    "second_point.plot_point(ax)\n",
    "third_point.plot_point(ax)\n",
    "plt.legend()\n",
    "\n",
    "# Try to access the private variable, even though you shouldn't\n",
    "#print(first_point.__private_variable) # This won't work - try uncommenting it\n",
    "print(first_point._Point__private_variable) # This will\n",
    "\n",
    "# Can get info on the new class - uncomment to see this\n",
    "# Point?"
   ]
  },
  {
   "cell_type": "code",
   "execution_count": null,
   "id": "0c6bb38e",
   "metadata": {},
   "outputs": [],
   "source": [
    "# Rectangle class\n",
    "\n",
    "class Rectangle:\n",
    "\n",
    "    \"\"\"\n",
    "    Represents a rectangle in a 2D space\n",
    "    \n",
    "    attributes: bottom left point, top right point, potentially other points?\n",
    "    \n",
    "    \"\"\"\n",
    "    \n",
    "    def __init__(self, bottom_left, top_right):\n",
    "        # read in user inputs for bottom left and top right\n",
    "        self.bottom_left = np.array(bottom_left)\n",
    "        self.top_right = np.array(top_right)\n",
    "        # make sure that the user has input the points in the right way\n",
    "        assert all(self.bottom_left < self.top_right), \"The first input should be bottom left and second one should be top right.\"\n",
    "        # now initialise the other two points of the rectangle\n",
    "        # start with top left\n",
    "        self.top_left = np.zeros(2)\n",
    "        self.top_left[0] = self.bottom_left[0]\n",
    "        self.top_left[1] = self.top_right[1]\n",
    "        # next is bottom right\n",
    "        self.bottom_right = np.zeros(2)\n",
    "        self.bottom_right[0] = self.top_right[0]\n",
    "        self.bottom_right[1] = self.bottom_left[1] \n",
    "\n",
    "    def is_rectangle(self):\n",
    "        \n",
    "\n",
    "    def reflect_rectangle(self):\n",
    "        self.bottom_left *= -1\n",
    "        self.top_right *= -1\n",
    "        self.bottom_right *= -1\n",
    "        self.top_left *= -1\n",
    "\n",
    "    def grow_rectangle(self, dx, dy, fixed_point):\n",
    "        if fixed_point == 'bottom_left':\n",
    "            self.top_right[0] += dx\n",
    "            self.top_right[1] += dy\n",
    "        elif fixed_point == 'top_right':\n",
    "            self.bottom_left[0] += dx\n",
    "            self.bottom_left[1] += dy\n",
    "        else:\n",
    "            raise ValueError('Fixed point must be bottom_left or top_right')"
   ]
  },
  {
   "cell_type": "code",
   "execution_count": 51,
   "id": "978d0b8d",
   "metadata": {},
   "outputs": [
    {
     "name": "stdout",
     "output_type": "stream",
     "text": [
      "[1. 2.]\n",
      "[-1. -2.]\n",
      "[-2. -3.]\n"
     ]
    }
   ],
   "source": [
    "new_rect = Rectangle([1.0, 2.0], [3.0, 4.0])\n",
    "print(new_rect.bottom_left)\n",
    "new_rect.reflect_rectangle()\n",
    "print(new_rect.bottom_left)\n",
    "new_rect.grow_rectangle(1.0, 1.0, 'bottom_left')\n",
    "print(new_rect.top_right)"
   ]
  },
  {
   "cell_type": "markdown",
   "id": "03a04402",
   "metadata": {},
   "source": [
    "### ACTIVITY 2: \n",
    "\n",
    "Now create a Square class that has the same functionality as the rectangle class, but that in addition has the ability to calculate its own area. You are not allowed to modify the Rectangle class.\n",
    "\n",
    "_HINT: Do you really need to write a whole new function from scratch? What about inheritance?_\n"
   ]
  },
  {
   "cell_type": "code",
   "execution_count": 19,
   "id": "dc06a2ad",
   "metadata": {},
   "outputs": [],
   "source": [
    "# Square class\n",
    "\n",
    "# UPDATE ME"
   ]
  },
  {
   "cell_type": "markdown",
   "id": "14b33155",
   "metadata": {},
   "source": [
    "### ACTIVITY 3:\n",
    "\n",
    "Now we wil consider a simpled coupled ODEs: the Lotka-Volterra equations describe predator-prey relations, where some species $x$ (e.g. a fox) eats another species $y$ (e.g. rabbits), and each population grows by breeding at a rate proportional to its number. The resulting evolution is described by the following first order, autonomous, non linear, coupled system of ordinary differential equations:\n",
    "\n",
    "$\\frac{dx}{dt} = ax - bxy$\n",
    "\n",
    "$\\frac{dy}{dt} = -cy + dxy$\n",
    "\n",
    "What parts or features of the differential equation tell us that it is:\n",
    "1. First order\n",
    "2. Autonomous\n",
    "3. Non linear\n",
    "4. Coupled \n",
    "\n",
    "?"
   ]
  },
  {
   "cell_type": "markdown",
   "id": "bf508678",
   "metadata": {},
   "source": [
    "Answers: ... UPDATE ME!"
   ]
  },
  {
   "cell_type": "markdown",
   "id": "d787ce7d",
   "metadata": {},
   "source": [
    "### ACTIVITY 4:\n",
    "\n",
    "The following code solves the Logistic Equation \n",
    "\n",
    "$\\frac{dy}{dt} = y (1 - y)$\n",
    "\n",
    "Using a simple explicit integration and the scipy function solve_ivp() which used Runge-Kutta 4th/5th order time integration. Copy it and update it to solve instead the Lotka-Volterra equations. \n",
    "\n",
    "Note the following:\n",
    "\n",
    "1. Why do I substract delta_t when calculating the vector of t_solution points?\n",
    "2. the solve_ivp method uses the labels t and y for the independent and dependent variables. The y value is assumed to be a vector, allowing you to solve for multiple dependent variables at once, e.g. you can make it np.array([x,y])"
   ]
  },
  {
   "cell_type": "code",
   "execution_count": 120,
   "id": "2f5fb331",
   "metadata": {},
   "outputs": [
    {
     "data": {
      "image/png": "[encoded data removed]",
      "text/plain": [
       "<Figure size 432x288 with 1 Axes>"
      ]
     },
     "metadata": {
      "needs_background": "light"
     },
     "output_type": "display_data"
    }
   ],
   "source": [
    "# Solve the 1d logistic equation from class\n",
    "from scipy.integrate import solve_ivp\n",
    "\n",
    "# Note that the function has to take t as the first argument and y as the second\n",
    "def calculate_logistic_dydt(t, y):\n",
    "    \"\"\"Returns the gradient dx/dt for the logistic equation\"\"\"\n",
    "    dydt = y*(1 - y)\n",
    "    return dydt\n",
    "\n",
    "max_time = 10.0\n",
    "N_time_steps = 25\n",
    "delta_t = max_time / N_time_steps\n",
    "t_solution = np.linspace(0.0, max_time-delta_t, N_time_steps) # values of independent variable \n",
    "y0 = np.array([0.5]) # an initial condition, y(0) = y0, note it needs to be an array\n",
    "\n",
    "solution = solve_ivp(calculate_logistic_dydt, [0,max_time], y0,\n",
    "                        method='RK45', t_eval=t_solution)\n",
    " \n",
    "plt.grid()\n",
    "plt.xlabel(\"t\", fontsize=16)\n",
    "plt.ylabel(\"y\", fontsize=16) \n",
    "plt.plot(solution.t, solution.y[0], 'o', label=\"solve_ivp\")\n",
    "\n",
    "# Now do it the \"cheap\" way \n",
    "# increase the number of steps to see how the solution changes\n",
    "y_solution = np.zeros_like(t_solution)\n",
    "y_solution[0] = y0\n",
    "for itime, time in enumerate(t_solution) :\n",
    "    if itime > 0 :\n",
    "        dydt = calculate_logistic_dydt(time, y_solution[itime-1])\n",
    "        y_solution[itime] = y_solution[itime-1] + dydt * delta_t\n",
    "    \n",
    "plt.plot(t_solution, y_solution, '-.',label=\"cheap method\")\n",
    "\n",
    "# Now plot the true solution\n",
    "A = 1.0/y0 - 1.0\n",
    "y_true = 1.0 / (1.0 + A * np.exp(-t_solution))\n",
    "plt.plot(t_solution, y_true, '-', label=\"true solution\")\n",
    "plt.legend(loc='best');"
   ]
  },
  {
   "cell_type": "code",
   "execution_count": 117,
   "id": "f9a6cc6f",
   "metadata": {},
   "outputs": [],
   "source": [
    "# Your solution here for the predator-prey equations !\n",
    "\n",
    "# UPDATE ME!"
   ]
  },
  {
   "cell_type": "markdown",
   "id": "fc8f692b",
   "metadata": {},
   "source": [
    "### ACTIVITY 5:\n",
    "\n",
    "Find the equilibrium value of rabbits and foxes such that you do not get oscillations.\n",
    "\n",
    "_HINT: You can do this by trying different initial values of the rabbits and foxes, but it may help to also plot the solutions of x versus y for different values of the initial conditions and identify if there is a trend_"
   ]
  },
  {
   "cell_type": "code",
   "execution_count": 118,
   "id": "2478e15e",
   "metadata": {},
   "outputs": [],
   "source": [
    "# Plot some solutions of x versus y\n",
    "\n",
    "# HINT: plt.plot(solution.y[0], solution.y[1], '--', label=\"x0, y0 = ??\")"
   ]
  },
  {
   "cell_type": "markdown",
   "id": "610c8870",
   "metadata": {},
   "source": [
    "### ACTIVITY 6:\n",
    "\n",
    "If you double the resolution in the simple integrator, what happens to the error in the solution compared to solve_ivp? Why? How could you improve this behaviour?"
   ]
  },
  {
   "cell_type": "code",
   "execution_count": 119,
   "id": "8c88c564",
   "metadata": {},
   "outputs": [],
   "source": [
    "# Compare the errors here\n",
    "\n",
    "# HINT: plt.plot(solution.t, solution.y[0] - y_solution, '--', label=\"error versus solve_ivp, dt = ??\")"
   ]
  },
  {
   "cell_type": "markdown",
   "id": "058d6f9b",
   "metadata": {},
   "source": [
    "### ACTIVITY 7:\n",
    "\n",
    "The predator - prey equations have been cast above in a _functional coding_ style. Can you imagine a way to cast them in a more OOP way?\n",
    "\n",
    "_HINT: There are several ways this could be done, but consider writing an Ecosystem class - what would be the attributes and methods that would live in such a class?_\n",
    "\n",
    "OPTIONAL: Implement it!"
   ]
  },
  {
   "cell_type": "markdown",
   "id": "2f40159e",
   "metadata": {},
   "source": [
    "A: UPDATE ME!"
   ]
  },
  {
   "cell_type": "code",
   "execution_count": 24,
   "id": "70494bc6",
   "metadata": {},
   "outputs": [],
   "source": [
    "# Implementation of the Ecosystem class (OPTIONAL)\n"
   ]
  }
 ],
 "metadata": {
  "kernelspec": {
   "display_name": ".venv",
   "language": "python",
   "name": "python3"
  },
  "language_info": {
   "codemirror_mode": {
    "name": "ipython",
    "version": 3
   },
   "file_extension": ".py",
   "mimetype": "text/x-python",
   "name": "python",
   "nbconvert_exporter": "python",
   "pygments_lexer": "ipython3",
   "version": "3.13.5"
  }
 },
 "nbformat": 4,
 "nbformat_minor": 5
}
