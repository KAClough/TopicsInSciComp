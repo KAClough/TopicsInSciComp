{
 "cells": [
  {
   "cell_type": "markdown",
   "id": "8677fe39",
   "metadata": {},
   "source": [
    "## Week 11 Lab exercises\n",
    "\n",
    "In this week we will solve a non linear elliptic PDE using relaxation, essentially by recasting it as a parabolic equation and looking for a stationary solution. Below is some code from previous weeks that you may wish to reuse."
   ]
  },
  {
   "cell_type": "code",
   "execution_count": 1,
   "id": "0d8bde64",
   "metadata": {},
   "outputs": [],
   "source": [
    "import numpy as np\n",
    "from scipy.integrate import solve_ivp\n",
    "import matplotlib.pyplot as plt\n",
    "%matplotlib inline"
   ]
  },
  {
   "cell_type": "code",
   "execution_count": 2,
   "id": "a76386bf",
   "metadata": {},
   "outputs": [],
   "source": [
    "# Here is the 5 point finite derivative matrix for a second spatial derivative.\n",
    "\n",
    "def get_FD_second_derivative_matrix(a_N) :\n",
    "    \n",
    "    h = 2.0 / a_N\n",
    "    one_over_h2 = 1.0 / (h*h)\n",
    "    D2_matrix = np.zeros([a_N+1,a_N+1])\n",
    "\n",
    "    indices = np.arange(a_N+1)\n",
    "    for idx_i in indices :\n",
    "        for idx_j in indices :\n",
    "            if(idx_i == idx_j) :\n",
    "                D2_matrix[idx_i,idx_j] = -30.0/12.0 * one_over_h2\n",
    "\n",
    "            elif (idx_i == (idx_j+2)) :\n",
    "                D2_matrix[idx_i,idx_j] = -1.0/12.0 * one_over_h2\n",
    "                \n",
    "            elif (idx_i == (idx_j+1)) :\n",
    "                D2_matrix[idx_i,idx_j] = 16.0/12.0 * one_over_h2\n",
    "                \n",
    "            elif (idx_i == (idx_j-1)) :\n",
    "                D2_matrix[idx_i,idx_j] = 16.0/12.0 * one_over_h2\n",
    "\n",
    "            elif (idx_i == (idx_j-2)) :\n",
    "                D2_matrix[idx_i,idx_j] = -1.0/12.0 * one_over_h2\n",
    "                \n",
    "            else :\n",
    "                D2_matrix[idx_i,idx_j] = 0.0\n",
    "                \n",
    "    # Fix the ends with one sided derivatives\n",
    "    D2_matrix[0,0] = 1.0 * one_over_h2\n",
    "    D2_matrix[0,1] = -2.0 * one_over_h2\n",
    "    D2_matrix[0,2] = 1.0 * one_over_h2\n",
    "    D2_matrix[a_N,a_N] = 1.0 * one_over_h2\n",
    "    D2_matrix[a_N,a_N-1] = -2.0 * one_over_h2\n",
    "    D2_matrix[a_N,a_N-2] = 1.0 * one_over_h2\n",
    "    \n",
    "    return D2_matrix"
   ]
  },
  {
   "cell_type": "code",
   "execution_count": 3,
   "id": "f7d730b0",
   "metadata": {},
   "outputs": [],
   "source": [
    "# First make a class for the Heat Equation\n",
    "\n",
    "class HeatEquationPDE :\n",
    "    \n",
    "    \"\"\"\n",
    "    Represents the Heat Equation equation PDE and its solution\n",
    "    \n",
    "    attributes: alpha (diffusivity), x_0, T_0 (an initial condition),\n",
    "                N_grid (the size of the grid)\n",
    "    \n",
    "    \"\"\"\n",
    "    \n",
    "    # constructor function\n",
    "    def __init__(self, a_x, a_T0, a_max_time, a_alpha=0.5):\n",
    "        self.alpha = a_alpha\n",
    "        self.max_time = a_max_time\n",
    "        self.x = a_x\n",
    "        self.T0 = a_T0\n",
    "        self.N_grid = np.size(a_x)            \n",
    "        self._solution_t = []\n",
    "        self._solution_y = []\n",
    "        \n",
    "        self.initial_value = self.T0\n",
    "        self.D2_matrix = get_FD_second_derivative_matrix(self.N_grid-1)\n",
    "            \n",
    "        # Rescale for the derivative matrix for the interval we are looking at\n",
    "        b_minus_a = self.x[self.N_grid-1] - self.x[0]\n",
    "        self.D2_matrix *= 4.0 / b_minus_a / b_minus_a\n",
    "\n",
    "    def calculate_dydt(self, t, current_state) :\n",
    "        \n",
    "        # Just for readability\n",
    "        dTdt = np.zeros_like(current_state)\n",
    "        \n",
    "        # Now actually work out the time derivatives\n",
    "        dTdt[:] =  self.alpha * np.dot(self.D2_matrix, current_state)\n",
    "        \n",
    "        return dTdt       \n",
    " \n",
    "    def integrate_using_solve_ivp(self) :\n",
    "        \n",
    "        t_solution = np.linspace(0.0, self.max_time, 100)\n",
    "        solution = solve_ivp(self.calculate_dydt, [0, self.max_time],\n",
    "                        self.initial_value, t_eval=t_solution)\n",
    "        \n",
    "        self._solution_t = solution.t\n",
    "        self._solution_y = solution.y\n",
    "        \n",
    "        self._solution_solved = True\n",
    "        \n",
    "        return solution.t, solution.y"
   ]
  },
  {
   "cell_type": "code",
   "execution_count": 4,
   "id": "881bd4b5",
   "metadata": {},
   "outputs": [
    {
     "data": {
      "image/png": "[encoded data removed]",
      "text/plain": [
       "<Figure size 432x288 with 1 Axes>"
      ]
     },
     "metadata": {
      "needs_background": "light"
     },
     "output_type": "display_data"
    }
   ],
   "source": [
    "# Test the solution\n",
    "num_points = 80\n",
    "a=-10\n",
    "b=10\n",
    "x_values = np.linspace(a , b,  num_points)\n",
    "T0 = np.zeros_like(x_values)\n",
    "max_time = 10.0\n",
    "\n",
    "my_heat_equation = HeatEquationPDE(x_values, T0, max_time)\n",
    "t_solution, y_solution = my_heat_equation.integrate_using_solve_ivp()\n",
    "\n",
    "for i, t_i in enumerate(t_solution) :\n",
    "    if (i > 0) and (i % 5 == 0) and (t_i > 0.0):\n",
    "        labelt = \"t=\"+str(round(t_i,2))\n",
    "        f_t = y_solution[:,i]\n",
    "        plt.plot(x_values, f_t, label=labelt, alpha=(1-t_i/max_time))\n",
    "\n",
    "plt.xlabel('x')\n",
    "plt.ylabel('value over time of T')\n",
    "plt.grid()"
   ]
  },
  {
   "cell_type": "markdown",
   "id": "5931d7e7",
   "metadata": {},
   "source": [
    "### Activity 1: Solving the elliptic equation\n",
    "\n",
    "We want to solve the elliptic equation (ok, it is actually an ODE, but it could also have $+\\frac{\\partial^2 T}{\\partial y^2}$ on the left hand side and the principle would be the same):\n",
    "\n",
    "$\\frac{\\partial^2 T}{\\partial x^2} = e^{-\\alpha T^2}$\n",
    "\n",
    "With $\\alpha$ a parameter for the source that we can set to 0.5, and boundary conditions $T(x=0)=0$ and $T(x=L)=0$, with $L=10$.\n",
    "\n",
    "So we recast it as a \"fake\" parabolic equation:\n",
    "\n",
    "$ \\frac{\\partial T}{\\partial t} = \\tau \\left[\\frac{\\partial^2 T}{\\partial x^2} - e^{-\\alpha T^2}\\right] $\n",
    "\n",
    "With $\\tau$ a parameter controlling the relaxation time that we may need to tune.\n",
    "\n",
    "We now want to solve this equation and find the stationary state, which is a solution of the elliptic equation, i.e. where $ \\frac{\\partial T}{\\partial t}=0$.\n",
    "\n",
    "1. You should do this first using `solve_ivp()`. \n",
    "\n",
    "    - You need to add a method to check that the solution has converged, e.g. by checking that the last few solutions are the same to within some tolerance. \n",
    "\n",
    "    - If it is not, how can you tune $\\tau$ so that this is achieved? Can $\\tau$ take any value? Why not?\n",
    "\n",
    "    - You should be able to start from any initial guess for the solution (with the correct boundary conditions) and it should converge to the correct one, test this is true.\n",
    "\n",
    "\n",
    "2. Now solve it using the implicit backward Euler method, that is:\n",
    "\n",
    "    $y_{k+1} = y_k + \\Delta t ~ f(y_{k+1}, t_{k+1})$\n",
    "\n",
    "    _HINT You may wish to look back to your solution for Week 6 for non linear ODEs._\n"
   ]
  },
  {
   "cell_type": "code",
   "execution_count": 5,
   "id": "d9cbe9ea",
   "metadata": {},
   "outputs": [],
   "source": [
    "# Your code here..."
   ]
  }
 ],
 "metadata": {
  "kernelspec": {
   "display_name": "Python 3 (ipykernel)",
   "language": "python",
   "name": "python3"
  },
  "language_info": {
   "codemirror_mode": {
    "name": "ipython",
    "version": 3
   },
   "file_extension": ".py",
   "mimetype": "text/x-python",
   "name": "python",
   "nbconvert_exporter": "python",
   "pygments_lexer": "ipython3",
   "version": "3.9.7"
  }
 },
 "nbformat": 4,
 "nbformat_minor": 5
}
