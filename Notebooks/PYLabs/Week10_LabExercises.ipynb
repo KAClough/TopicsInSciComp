{
 "cells": [
  {
   "cell_type": "markdown",
   "id": "8677fe39",
   "metadata": {},
   "source": [
    "## Week 10 Lab exercises\n",
    "\n",
    "In this week we will continue investigating PDEs and study the wave equation, which is second order in time."
   ]
  },
  {
   "cell_type": "code",
   "execution_count": 1,
   "id": "0d8bde64",
   "metadata": {},
   "outputs": [],
   "source": [
    "import numpy as np\n",
    "from sympy import symbols, simplify, pprint, diff\n",
    "from scipy.interpolate import lagrange\n",
    "from scipy.integrate import solve_ivp\n",
    "import matplotlib.pyplot as plt\n",
    "%matplotlib inline"
   ]
  },
  {
   "cell_type": "code",
   "execution_count": 2,
   "id": "cc1d4e63",
   "metadata": {},
   "outputs": [],
   "source": [
    "# We will be working with this test function throughout the exercises:\n",
    "\n",
    "def get_y_test_function(a_x_points) :\n",
    "    y_test = np.exp(-a_x_points*a_x_points)\n",
    "    return y_test\n",
    "\n",
    "def get_dydx_test_function(a_x_points) :\n",
    "    dydt_test = -2.0 * a_x_points * np.exp(-a_x_points*a_x_points)\n",
    "    return dydt_test   \n",
    "\n",
    "def get_d2ydx2_test_function(a_x_points) :\n",
    "    d2ydt2_test = (4.0 * a_x_points * a_x_points * np.exp(-a_x_points*a_x_points)\n",
    "                 - 2.0 * np.exp(-a_x_points*a_x_points))\n",
    "    return d2ydt2_test "
   ]
  },
  {
   "cell_type": "markdown",
   "id": "5c42c218",
   "metadata": {},
   "source": [
    "### Pseudospectral derivatives from last week\n",
    "\n",
    "The code below gives you the matrices for the first and second derivative of a function represented by N+1 points assuming an interval [-1,1].\n",
    "\n",
    "_HINT - note the need to rescale the derivative according to the interval_"
   ]
  },
  {
   "cell_type": "code",
   "execution_count": 4,
   "id": "e77616d4",
   "metadata": {},
   "outputs": [],
   "source": [
    "def get_pseudospectral_first_derivative_matrix(N) :\n",
    "    \n",
    "    indices = np.arange(N+1)\n",
    "    u_i = np.cos(np.pi * indices / N)\n",
    "    c_i = np.ones_like(indices)\n",
    "    c_i[0] = 2.0\n",
    "    c_i[N] = 2.0\n",
    "\n",
    "    D_matrix = np.zeros([N+1,N+1])\n",
    "\n",
    "    for idx_i in indices :\n",
    "        for idx_j in indices :\n",
    "            if(idx_i == 0 and idx_j == 0) : \n",
    "                D_matrix[idx_i,idx_j] = (2.0 * N * N + 1.0)/6.0\n",
    "                \n",
    "            elif (idx_i == N and idx_j == N) :\n",
    "                D_matrix[idx_i,idx_j] = -(2.0 * N * N + 1.0)/6.0\n",
    "                \n",
    "            elif (idx_i == idx_j) :\n",
    "                D_matrix[idx_i,idx_j] = - u_i[idx_i] / 2.0 / (1.0 - u_i[idx_i] * u_i[idx_i])\n",
    "                \n",
    "            else :\n",
    "                D_matrix[idx_i,idx_j] = (c_i[idx_i] / c_i[idx_j] * (-1)**(idx_i+idx_j) \n",
    "                                         / (u_i[idx_i] - u_i[idx_j]))\n",
    "\n",
    "    # Fix numerical errors when function flat         \n",
    "    for idx_i in indices :\n",
    "        D_matrix[idx_i,idx_i] = 0\n",
    "        for idx_j in indices :\n",
    "            if (idx_j != idx_i) : \n",
    "                D_matrix[idx_i,idx_i] += -D_matrix[idx_i,idx_j]                \n",
    "\n",
    "    return D_matrix\n",
    "\n",
    "def get_pseudospectral_second_derivative_matrix(N) :\n",
    "    \n",
    "    indices = np.arange(N+1)\n",
    "    u_i = np.cos(np.pi * indices / N)\n",
    "    c_i = np.ones_like(indices)\n",
    "    c_i[0] = 2.0\n",
    "    c_i[N] = 2.0\n",
    "\n",
    "    D2_matrix = np.zeros([N+1,N+1])\n",
    "\n",
    "    for idx_i in indices :\n",
    "        for idx_j in indices :\n",
    "            if((idx_i == idx_j) and (idx_i == 0 or idx_i == N)) : \n",
    "                D2_matrix[idx_i,idx_j] = (N ** 4.0 - 1.0) / 15.0\n",
    "            \n",
    "            elif ((idx_i == idx_j) and (idx_i != 0) and (idx_i != N)) :\n",
    "                D2_matrix[idx_i,idx_j] = (- ((N*N - 1.0) * (1.0 - u_i[idx_i] * u_i[idx_i]) + 3.0) \n",
    "                                             / (3.0 * (1.0 - u_i[idx_i] * u_i[idx_i]) ** 2.0))\n",
    "                 \n",
    "            elif (idx_i == 0 and idx_j > 0) :\n",
    "                D2_matrix[idx_i,idx_j] = ((2.0 / 3.0) * ((-1) ** idx_j) / c_i[idx_j] \n",
    "                                          * ((2.0 * N * N + 1.0) * (1.0 - u_i[idx_j]) - 6.0)\n",
    "                                          / (1.0 - u_i[idx_j]) / (1.0 - u_i[idx_j]))\n",
    "                \n",
    "            elif (idx_i == N and idx_j < N) :\n",
    "                D2_matrix[idx_i,idx_j] = ((2.0 / 3.0) * ((-1) ** (N+idx_j)) / c_i[idx_j] \n",
    "                                          * ((2.0 * N * N + 1.0) * (1.0 + u_i[idx_j]) - 6.0)\n",
    "                                          / (1.0 + u_i[idx_j]) / (1.0 + u_i[idx_j]))\n",
    "                \n",
    "            else :\n",
    "                D2_matrix[idx_i,idx_j] = (((-1) ** (idx_i+idx_j)) / c_i[idx_j] \n",
    "                                            * (u_i[idx_i]*u_i[idx_i] + u_i[idx_i]*u_i[idx_j] - 2.0)\n",
    "                                            / (1.0 - u_i[idx_i]*u_i[idx_i]) / (u_i[idx_i] - u_i[idx_j])\n",
    "                                            / (u_i[idx_i] - u_i[idx_j]))\n",
    "\n",
    "    # Fix numerical errors when function flat            \n",
    "    for idx_i in indices :\n",
    "        D2_matrix[idx_i,idx_i] = 0\n",
    "        for idx_j in indices :\n",
    "            if (idx_j != idx_i) : \n",
    "                D2_matrix[idx_i,idx_i] += -D2_matrix[idx_i,idx_j]\n",
    "                \n",
    "    return D2_matrix"
   ]
  },
  {
   "cell_type": "markdown",
   "id": "3c6eeea8",
   "metadata": {},
   "source": [
    "### Finite difference derivative matrices from last week\n",
    "\n",
    "The code below gives you the 5 point finite derivative stencil matrices for the second derivative of a function represented by N+1 points assuming an interval [-1,1].\n",
    "\n",
    "_HINT - note the need to rescale the derivative according to the interval_"
   ]
  },
  {
   "cell_type": "code",
   "execution_count": 7,
   "id": "a76386bf",
   "metadata": {},
   "outputs": [],
   "source": [
    "def get_FD_second_derivative_matrix(a_N) :\n",
    "    \n",
    "    h = 2.0 / a_N\n",
    "    one_over_h2 = 1.0 / (h*h)\n",
    "    D2_matrix = np.zeros([a_N+1,a_N+1])\n",
    "\n",
    "    indices = np.arange(a_N+1)\n",
    "    for idx_i in indices :\n",
    "        for idx_j in indices :\n",
    "            if(idx_i == idx_j) :\n",
    "                D2_matrix[idx_i,idx_j] = -30.0/12.0 * one_over_h2\n",
    "\n",
    "            elif (idx_i == (idx_j+2)) :\n",
    "                D2_matrix[idx_i,idx_j] = -1.0/12.0 * one_over_h2\n",
    "                \n",
    "            elif (idx_i == (idx_j+1)) :\n",
    "                D2_matrix[idx_i,idx_j] = 16.0/12.0 * one_over_h2\n",
    "                \n",
    "            elif (idx_i == (idx_j-1)) :\n",
    "                D2_matrix[idx_i,idx_j] = 16.0/12.0 * one_over_h2\n",
    "\n",
    "            elif (idx_i == (idx_j-2)) :\n",
    "                D2_matrix[idx_i,idx_j] = -1.0/12.0 * one_over_h2\n",
    "                \n",
    "            else :\n",
    "                D2_matrix[idx_i,idx_j] = 0.0\n",
    "                \n",
    "    # Fix the ends with one sided derivatives\n",
    "    D2_matrix[0,0] = 1.0 * one_over_h2\n",
    "    D2_matrix[0,1] = -2.0 * one_over_h2\n",
    "    D2_matrix[0,2] = 1.0 * one_over_h2\n",
    "    D2_matrix[a_N,a_N] = 1.0 * one_over_h2\n",
    "    D2_matrix[a_N,a_N-1] = -2.0 * one_over_h2\n",
    "    D2_matrix[a_N,a_N-2] = 1.0 * one_over_h2\n",
    "    \n",
    "    return D2_matrix"
   ]
  },
  {
   "cell_type": "code",
   "execution_count": 9,
   "id": "b857b419",
   "metadata": {},
   "outputs": [
    {
     "data": {
      "image/png": "[encoded data removed]",
      "text/plain": [
       "<Figure size 432x288 with 1 Axes>"
      ]
     },
     "metadata": {
      "needs_background": "light"
     },
     "output_type": "display_data"
    }
   ],
   "source": [
    "# Testing the second derivatives for pseudospectral method\n",
    "N = 40\n",
    "a = -4\n",
    "b = 4\n",
    "\n",
    "# Find the Gauss Lobato nodes\n",
    "x_points = np.linspace(a,b,N+1)\n",
    "y_points = get_y_test_function(x_points)\n",
    "\n",
    "D2_matrix = get_FD_second_derivative_matrix(N)\n",
    "# Rescale from interval [-1, 1] to [a, b]\n",
    "d2ydx2 = 4.0/(b - a)/(b - a) * np.dot(D2_matrix, y_points)\n",
    "\n",
    "# Plots\n",
    "x_true = np.linspace(a,b,100)\n",
    "plt.plot(x_true, get_d2ydx2_test_function(x_true), '-', label=\"true derivative\")\n",
    "plt.plot(x_points, d2ydx2, 'o', label=\"numerical derivatives\")\n",
    "plt.xlabel(\"x\")\n",
    "plt.ylabel(\"d2fdx2(x)\")\n",
    "plt.legend(bbox_to_anchor=(1.05, 0.5))\n",
    "plt.grid();"
   ]
  },
  {
   "cell_type": "markdown",
   "id": "2deb43fc",
   "metadata": {},
   "source": [
    "### ACTIVITY 1 : Solving the wave equation using solve_ivp()\n",
    "    \n",
    "Here we will solve the wave equation using `solve_ivp()`, the midpoint method and the two derivative methods above.\n",
    "\n",
    "The wave equation is:\n",
    "\n",
    "$ \\frac{\\partial^2 u}{\\partial t^2} = c^2 \\frac{\\partial^2 u}{\\partial x^2} $\n",
    "\n",
    "With $c$ a parameter for the speed that we can set to 0.5."
   ]
  },
  {
   "cell_type": "markdown",
   "id": "adfa184b",
   "metadata": {},
   "source": [
    "### Q1.1 Modify the heat equation code to solve the wave equation instead\n",
    "\n",
    "Below is the HeatEquationPDE class from last week. Modify it to solve the wave equation instead. \n",
    "\n",
    "The key change is that now you will need to introduce a second dependent variable $v$ that represents the time derivative of $u$, in order to cast it as a first order problem. \n",
    "\n",
    "How is the solution different to the Heat equation for the same initial $u$ profile? You can set $v(x,t=0)=0$ initially.\n",
    "\n",
    "The commands `np.array_split()` and `np.zeros_like()` can be useful for packing and unpacking the state vector."
   ]
  },
  {
   "cell_type": "code",
   "execution_count": 10,
   "id": "f7d730b0",
   "metadata": {},
   "outputs": [],
   "source": [
    "# First make a class for the Heat Equation\n",
    "\n",
    "class HeatEquationPDE :\n",
    "    \n",
    "    \"\"\"\n",
    "    Represents the Heat Equation equation PDE and its solution\n",
    "    \n",
    "    attributes: alpha (diffusivity), x_0, T_0 (an initial condition),\n",
    "                N_grid (the size of the grid)\n",
    "    \n",
    "    \"\"\"\n",
    "    \n",
    "    # constructor function\n",
    "    def __init__(self, a_x, a_T0, a_max_time, method=\"finite_difference\", a_alpha=0.5):\n",
    "        self.alpha = a_alpha\n",
    "        self.max_time = a_max_time\n",
    "        self.x = a_x\n",
    "        self.T0 = a_T0\n",
    "        self.N_grid = np.size(a_x)            \n",
    "        self._solution_t = []\n",
    "        self._solution_y = []\n",
    "        \n",
    "        self.initial_value = self.T0\n",
    "        \n",
    "        if method == \"finite_difference\" :\n",
    "            self.D2_matrix = get_FD_second_derivative_matrix(self.N_grid-1)\n",
    "        elif method == \"pseudospectral\" :\n",
    "            self.D2_matrix = get_pseudospectral_second_derivative_matrix(self.N_grid-1)\n",
    "        else :\n",
    "            assert False, \"Requested derivative method not implemented\"\n",
    "            \n",
    "        # Rescale for the derivative matrix for the interval we are looking at\n",
    "        b_minus_a = self.x[self.N_grid-1] - self.x[0]\n",
    "        self.D2_matrix *= 4.0 / b_minus_a / b_minus_a\n",
    "\n",
    "    def calculate_dydt(self, t, current_state) :\n",
    "        \n",
    "        # Just for readability\n",
    "        dTdt = np.zeros_like(current_state)\n",
    "        \n",
    "        # Now actually work out the time derivatives\n",
    "        dTdt[:] =  self.alpha * np.dot(self.D2_matrix, current_state)\n",
    "           \n",
    "        # Zero the derivatives at the end for stability \n",
    "        # (especially important in the pseudospectral method)\n",
    "        dTdt[0] = 0.0\n",
    "        dTdt[1] = 0.0\n",
    "        dTdt[self.N_grid-1] = 0.0\n",
    "        dTdt[self.N_grid-2] = 0.0\n",
    "        \n",
    "        return dTdt       \n",
    " \n",
    "    def integrate_using_solve_ivp(self) :\n",
    "        \n",
    "        t_solution = np.linspace(0.0, self.max_time, 100)\n",
    "        solution = solve_ivp(self.calculate_dydt, [0, self.max_time],\n",
    "                        self.initial_value, t_eval=t_solution)\n",
    "        \n",
    "        self._solution_t = solution.t\n",
    "        self._solution_y = solution.y\n",
    "        \n",
    "        self._solution_solved = True\n",
    "        \n",
    "        return solution.t, solution.y"
   ]
  },
  {
   "cell_type": "code",
   "execution_count": 3,
   "id": "61513178",
   "metadata": {},
   "outputs": [],
   "source": [
    "# Wave equation class\n",
    "\n",
    "# Your code here"
   ]
  },
  {
   "cell_type": "code",
   "execution_count": 4,
   "id": "881bd4b5",
   "metadata": {},
   "outputs": [],
   "source": [
    "# Test the solution\n",
    "\n",
    "# Your code here"
   ]
  },
  {
   "cell_type": "code",
   "execution_count": 5,
   "id": "d9cbe9ea",
   "metadata": {},
   "outputs": [],
   "source": [
    "# Now test using pseudospectral FDs\n",
    "\n",
    "# Your code here"
   ]
  },
  {
   "cell_type": "markdown",
   "id": "55596497",
   "metadata": {},
   "source": [
    "### Q1.2 Implement the RK2 integration method and test the CFL condition\n",
    "\n",
    "Implement a midpoint method to integrate in place of `solve_ivp()` so that you can control the size of the time steps. Use finite difference stencils for the spatial derivatives.\n",
    "\n",
    "The CFL condition for this method is $\\Delta t = \\lambda \\Delta x$ with $\\lambda \\sim 1/c$. \n",
    "\n",
    "Add a parameter to set the CFL condition, and find the exact value at which this breaks down by trial and error. Check it for other values of the speed $c$."
   ]
  },
  {
   "cell_type": "code",
   "execution_count": 6,
   "id": "2abc1710",
   "metadata": {},
   "outputs": [],
   "source": [
    "# Your code here...\n"
   ]
  }
 ],
 "metadata": {
  "kernelspec": {
   "display_name": "Python 3 (ipykernel)",
   "language": "python",
   "name": "python3"
  },
  "language_info": {
   "codemirror_mode": {
    "name": "ipython",
    "version": 3
   },
   "file_extension": ".py",
   "mimetype": "text/x-python",
   "name": "python",
   "nbconvert_exporter": "python",
   "pygments_lexer": "ipython3",
   "version": "3.9.7"
  }
 },
 "nbformat": 4,
 "nbformat_minor": 5
}
