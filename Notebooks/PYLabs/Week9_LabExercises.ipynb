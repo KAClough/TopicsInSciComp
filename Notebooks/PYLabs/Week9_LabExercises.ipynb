{
 "cells": [
  {
   "cell_type": "markdown",
   "id": "8677fe39",
   "metadata": {},
   "source": [
    "## Week 8 Lab exercises\n",
    "\n",
    "In this week we will investigate numerical interpolation and integration."
   ]
  },
  {
   "cell_type": "code",
   "execution_count": 35,
   "id": "0d8bde64",
   "metadata": {},
   "outputs": [],
   "source": [
    "import numpy as np\n",
    "from sympy import symbols, simplify, pprint\n",
    "from scipy.interpolate import lagrange\n",
    "from scipy.integrate import trapezoid\n",
    "from scipy.integrate import simpson\n",
    "from scipy.interpolate import CubicHermiteSpline\n",
    "import matplotlib.pyplot as plt\n",
    "%matplotlib inline"
   ]
  },
  {
   "cell_type": "code",
   "execution_count": 2,
   "id": "cc1d4e63",
   "metadata": {},
   "outputs": [],
   "source": [
    "# We will be working with this test function throughout the exercises:\n",
    "\n",
    "def get_y_test_function(a_x_points) :\n",
    "    y_test = np.exp(-a_x_points*a_x_points) + np.sin(a_x_points)\n",
    "    return y_test\n",
    "\n",
    "def get_dydx_test_function(a_x_points) :\n",
    "    dydt_test = -2.0 * a_x_points * np.exp(-a_x_points*a_x_points) + np.cos(a_x_points)\n",
    "    return dydt_test   "
   ]
  },
  {
   "cell_type": "markdown",
   "id": "2b399aad",
   "metadata": {},
   "source": [
    "### ACTIVITY 1 - interpolation: \n",
    "\n",
    "We are given two points and are asked to fit a function to them. We construct a Lagrange interpolating polynomial using sympy to work out the polynomial for us. We obtain a first order polynomial that goes through the points and plot it.\n",
    "\n",
    "Python has a function for calculating Lagrange polynomials for a given set of points called `scipy.interpolate.lagrange`. We use this to check our polynomial.\n"
   ]
  },
  {
   "cell_type": "code",
   "execution_count": 3,
   "id": "a5ea9883",
   "metadata": {},
   "outputs": [
    {
     "name": "stdout",
     "output_type": "stream",
     "text": [
      "Using sympy we get 0.12544570880996*x + 0.787209250119254\n",
      "Using the scipy function we get \n",
      "  \n",
      "0.1254 x + 0.7872\n",
      "We can also return the coefficients of the polynomial as an array:  [0.12544571 0.78720925]\n"
     ]
    },
    {
     "data": {
      "image/png": "[encoded data removed]",
      "text/plain": [
       "<Figure size 432x288 with 1 Axes>"
      ]
     },
     "metadata": {
      "needs_background": "light"
     },
     "output_type": "display_data"
    }
   ],
   "source": [
    "x_points = np.array([-0.2, 1.8])\n",
    "y_points = get_y_test_function(x_points)\n",
    "\n",
    "# Construct the polynomial using sympy\n",
    "[x1,x2] = x_points\n",
    "[f1,f2] = y_points\n",
    "\n",
    "x = symbols('x')\n",
    "L1 = (x - x2 ) / (x1 - x2)\n",
    "L2 = (x - x1 ) / (x2 - x1)\n",
    "P = f1 * L1 + f2 * L2\n",
    "print(\"Using sympy we get\", simplify(P))\n",
    "\n",
    "lagrange_polynomial = lagrange(x_points, y_points)\n",
    "print(\"Using the scipy function we get \\n\",lagrange_polynomial)\n",
    "print(\"We can also return the coefficients of the polynomial as an array: \", \n",
    "      lagrange_polynomial.coef)\n",
    "\n",
    "x_true = np.linspace(-0.2,1.8,100)\n",
    "plt.plot(x_true, get_y_test_function(x_true), '-', label=\"true function\")\n",
    "plt.plot(x_true, lagrange_polynomial(x_true), '--', label=\"Lagrange polynomial\")\n",
    "plt.plot(x_points, y_points, 'o', label=\"points given\")\n",
    "plt.xlabel(\"x\")\n",
    "plt.ylabel(\"f(x)\")\n",
    "plt.legend()\n",
    "plt.grid();"
   ]
  },
  {
   "cell_type": "markdown",
   "id": "3a979391",
   "metadata": {},
   "source": [
    "### Q1.1 Higher order Lagrange polynomial\n",
    "\n",
    "Now we are given 3 points! What order polynomial can we construct? Construct the Langrange interpolating polynomial from scratch, verify it using the `scipy.interpolate.lagrange` function and then plot it as we did above."
   ]
  },
  {
   "cell_type": "code",
   "execution_count": 108,
   "id": "36eb6ad0",
   "metadata": {},
   "outputs": [],
   "source": [
    "x_points = np.array([-0.2, 0.75, 1.8])\n",
    "y_points = get_y_test_function(x_points)\n",
    "\n",
    "# Your code here...\n"
   ]
  },
  {
   "cell_type": "markdown",
   "id": "a92dba4f",
   "metadata": {},
   "source": [
    "### Q1.2 Higher order Lagrange polynomial using many equal spaced points\n",
    "\n",
    "To get a better fit over a wider range from $[-5.0,5.0]$ you decide to divide the interval into N points, and then fit a higher order polynomial using `scipy.interpolate.lagrange`. What happens as you increase N? Does the fit get better or worse? What is this phenomenon called?"
   ]
  },
  {
   "cell_type": "code",
   "execution_count": 109,
   "id": "e77616d4",
   "metadata": {},
   "outputs": [],
   "source": [
    "# Your code here...\n",
    "\n"
   ]
  },
  {
   "cell_type": "markdown",
   "id": "a165d58b",
   "metadata": {},
   "source": [
    "### Q1.3 Cubic Hermite spline\n",
    "\n",
    "You decide to instead fit a composite Hermite polynomial to the points. What more information do you need? Construct the Hermite polynomial using the Python function `scipy.interpolate.CubicHermiteSpline`. What kind of object does this function return? How do you use it to plot the function you have constructed? What number of points do you need to get a good fit?\n",
    "\n",
    "#### OPTIONAL: \n",
    "\n",
    "Construct a series of Lagrange polynomials that fit 3 points in the interval at a time, and compare the overall fit to the composite cubic Hermite polynomial fit. What is the problem with using Lagrange polynomials rather than Hermite ones when constructing a composite function?"
   ]
  },
  {
   "cell_type": "code",
   "execution_count": 110,
   "id": "bda5186b",
   "metadata": {},
   "outputs": [],
   "source": [
    "N = 14\n",
    "a = -5\n",
    "b = 5\n",
    "x_points = np.linspace(a,b,N)\n",
    "y_points = get_y_test_function(x_points)\n",
    "\n",
    "# Your code here...\n",
    "\n"
   ]
  },
  {
   "cell_type": "code",
   "execution_count": 111,
   "id": "ca85228c",
   "metadata": {},
   "outputs": [],
   "source": [
    "# Optional using lagrange interpolation\n",
    "\n"
   ]
  },
  {
   "cell_type": "markdown",
   "id": "5a65db52",
   "metadata": {},
   "source": [
    "### Q1.4 Gauss Lobato nodes\n",
    "\n",
    "You finally decide to move the points so they are not evenly distributed, to the Gauss Lobato nodes. Find the location of the Gauss Lobato nodes for an integer N number of points and an interval $[-5,5]$ and fit a lagrange polynomial to it using `scipy.interpolate.lagrange`. What is the smallest number N that fits the points well (just comparing the differences by eye)?"
   ]
  },
  {
   "cell_type": "code",
   "execution_count": 112,
   "id": "700ee5cb",
   "metadata": {},
   "outputs": [],
   "source": [
    "# Your code here...\n",
    "\n"
   ]
  },
  {
   "cell_type": "markdown",
   "id": "2deb43fc",
   "metadata": {},
   "source": [
    "### ACTIVITY 2:\n",
    "    \n",
    "Below we have implemented the composite method for the trapezium rule applied to the function above for N points, and then checked it against the numpy function `scipy.integrate.trapezoid`."
   ]
  },
  {
   "cell_type": "code",
   "execution_count": 59,
   "id": "895dfd22",
   "metadata": {},
   "outputs": [
    {
     "name": "stdout",
     "output_type": "stream",
     "text": [
      "The integral with  10  points is  1.7712579642870152 1.7712579642870154\n"
     ]
    }
   ],
   "source": [
    "# function to get integral using trapezoid rule\n",
    "a = -5\n",
    "b = 5\n",
    "N = 10\n",
    "\n",
    "# Implement your own version of the composite trapezoid rule\n",
    "def get_test_integral(a_num_points) :\n",
    "    x_integration = np.linspace(a , b,  a_num_points)\n",
    "    y_integration = get_y_test_function(x_integration)\n",
    "    dx = (b - a) / (a_num_points - 1)\n",
    "    integral = (dx/2)*(y_integration[0] + 2 * sum(y_integration[1:a_num_points-1])\n",
    "                       + y_integration[a_num_points-1])\n",
    "    return integral\n",
    "\n",
    "integral = get_test_integral(N)\n",
    "\n",
    "# Check using the python function\n",
    "x_integration = np.linspace(a , b,  N)\n",
    "y_integration = get_y_test_function(x_integration)\n",
    "integral_scipy = trapezoid(y_integration,x_integration)\n",
    "\n",
    "print(\"The integral with \", N, \" points is \", integral, integral_scipy)"
   ]
  },
  {
   "cell_type": "markdown",
   "id": "adfa184b",
   "metadata": {},
   "source": [
    "### Q2.1 Trapezoid rule\n",
    "\n",
    "Test the integral for a range of values of N and show that the error decreases at the expected order (what is this?)."
   ]
  },
  {
   "cell_type": "code",
   "execution_count": 113,
   "id": "f7d730b0",
   "metadata": {},
   "outputs": [],
   "source": [
    "# Your code here...\n",
    "\n"
   ]
  },
  {
   "cell_type": "markdown",
   "id": "e9d79b37",
   "metadata": {},
   "source": [
    "### Q2.2 Simpson's 3 point composite rule\n",
    "\n",
    "Implement the composite method for the Simpson's 3 point rule with N points (from scratch, as was done above for the trapezoidal rule), then check it using the python function `scipy.integrate.simpson` and again show that the error decreases at the expected order."
   ]
  },
  {
   "cell_type": "code",
   "execution_count": 114,
   "id": "689e251b",
   "metadata": {},
   "outputs": [],
   "source": [
    "# Your code here...\n",
    "\n"
   ]
  },
  {
   "cell_type": "markdown",
   "id": "6fc409be",
   "metadata": {},
   "source": [
    "### Q2.3 Gaussian quadrature\n",
    "\n",
    "Implement a method to perform Gauss–Legendre quadrature on the interval $[0,2]$ using 2 points."
   ]
  },
  {
   "cell_type": "code",
   "execution_count": 115,
   "id": "c8dde5e0",
   "metadata": {},
   "outputs": [],
   "source": [
    "# Your code here...\n"
   ]
  }
 ],
 "metadata": {
  "kernelspec": {
   "display_name": "Python 3 (ipykernel)",
   "language": "python",
   "name": "python3"
  },
  "language_info": {
   "codemirror_mode": {
    "name": "ipython",
    "version": 3
   },
   "file_extension": ".py",
   "mimetype": "text/x-python",
   "name": "python",
   "nbconvert_exporter": "python",
   "pygments_lexer": "ipython3",
   "version": "3.9.7"
  }
 },
 "nbformat": 4,
 "nbformat_minor": 5
}
