{
 "cells": [
  {
   "cell_type": "markdown",
   "id": "b564c7dd",
   "metadata": {},
   "source": [
    "# Week1 : Welcome to the course!\n",
    "\n",
    "## Jupyter example notebook\n",
    "\n",
    "This notebook is just to demonstrate some basic functionality of python and Jupyter notebooks. Try executing the code segments below and changing some of the values or functions to test that you understand what is going on in each one.\n",
    "\n",
    "_Note that to execute a cell you press shift-enter_"
   ]
  },
  {
   "cell_type": "markdown",
   "id": "275d256d",
   "metadata": {},
   "source": [
    "## The very basics\n",
    "Let's do some very basic maths! Here we will add two numbers $c =a+b$"
   ]
  },
  {
   "cell_type": "code",
   "execution_count": 1,
   "id": "6e4b6a07",
   "metadata": {},
   "outputs": [
    {
     "name": "stdout",
     "output_type": "stream",
     "text": [
      "3\n"
     ]
    }
   ],
   "source": [
    "a = 1\n",
    "b = 2\n",
    "c = a+b\n",
    "print(c)"
   ]
  },
  {
   "cell_type": "markdown",
   "id": "2564c155-7aa8-4b5e-9b42-3d05f2b139d5",
   "metadata": {},
   "source": [
    "## Numpy\n",
    "Now we load the package numpy, which is useful for doing maths and arrays. We give it an alias `np` to make it easier to call member its member functions and attributes."
   ]
  },
  {
   "cell_type": "code",
   "execution_count": 2,
   "id": "9561be5d-ef9a-4a55-b0e3-27dce7c5c1da",
   "metadata": {},
   "outputs": [],
   "source": [
    "import numpy as np"
   ]
  },
  {
   "cell_type": "markdown",
   "id": "a760978b-b9be-41c2-951b-fae2e4dabe18",
   "metadata": {},
   "source": [
    "Now let's use it to create an array."
   ]
  },
  {
   "cell_type": "code",
   "execution_count": 3,
   "id": "6e873602-f33f-4831-90a6-f50854cfa7b0",
   "metadata": {},
   "outputs": [
    {
     "name": "stdout",
     "output_type": "stream",
     "text": [
      "[[1 2 3 4]\n",
      " [5 6 7 8]]\n",
      "The element in the first row, second column is 2 - note the zero base!!\n"
     ]
    }
   ],
   "source": [
    "a = np.array([[1,2,3,4], [5,6,7,8]])\n",
    "print(a)\n",
    "print(\"The element in the first row, second column is\", a[0][1], \"- note the zero base!!\")"
   ]
  },
  {
   "cell_type": "markdown",
   "id": "684ffd6e-5fb2-4036-a2e4-e8497aac6274",
   "metadata": {},
   "source": [
    "There is something to note about the way python labels variables that differs from many other coding paradigms - I will discuss this in the lecture next week but note this unexpected behaviour:"
   ]
  },
  {
   "cell_type": "code",
   "execution_count": 4,
   "id": "de11643e-dfe7-47e6-95e3-c6047e7053fe",
   "metadata": {},
   "outputs": [
    {
     "name": "stdout",
     "output_type": "stream",
     "text": [
      "a was [[1 2 3 4]\n",
      " [5 6 7 8]]\n",
      "I set b to a and amend one element of b\n",
      "a is now [[  1 100   3   4]\n",
      " [  5   6   7   8]]\n"
     ]
    }
   ],
   "source": [
    "print(\"a was\", a)\n",
    "b = a\n",
    "print(\"I set b to a and amend one element of b\")\n",
    "b[0][1]=100\n",
    "print(\"a is now\", a)"
   ]
  },
  {
   "cell_type": "markdown",
   "id": "8a6a203c",
   "metadata": {},
   "source": [
    "We can ask about attributes of the array a as follows:"
   ]
  },
  {
   "cell_type": "code",
   "execution_count": 5,
   "id": "3203994d-2e32-41f8-a811-c6eaac560ceb",
   "metadata": {},
   "outputs": [
    {
     "name": "stdout",
     "output_type": "stream",
     "text": [
      "The shape of a is  (2, 4)\n",
      "The size of a is  8\n",
      "The elements of a are of type  int64\n"
     ]
    }
   ],
   "source": [
    "print(\"The shape of a is \", a.shape)\n",
    "print(\"The size of a is \", a.size)\n",
    "print(\"The elements of a are of type \", a.dtype.name)"
   ]
  },
  {
   "cell_type": "markdown",
   "id": "91ec4cc3",
   "metadata": {},
   "source": [
    "Python automatically recognises the type of elements in the array:"
   ]
  },
  {
   "cell_type": "code",
   "execution_count": 6,
   "id": "43fe26e1",
   "metadata": {},
   "outputs": [
    {
     "name": "stdout",
     "output_type": "stream",
     "text": [
      "The elements of b are of type  float64\n"
     ]
    }
   ],
   "source": [
    "b = np.array([1.2, 3.5, 5.1])\n",
    "print(\"The elements of b are of type \", b.dtype.name)"
   ]
  },
  {
   "cell_type": "markdown",
   "id": "f28ac1ea",
   "metadata": {},
   "source": [
    "Functions apply to arrays element wise, so for example"
   ]
  },
  {
   "cell_type": "code",
   "execution_count": 7,
   "id": "01068c65",
   "metadata": {},
   "outputs": [
    {
     "data": {
      "text/plain": [
       "array([  3.32011692,  33.11545196, 164.0219073 ])"
      ]
     },
     "execution_count": 7,
     "metadata": {},
     "output_type": "execute_result"
    }
   ],
   "source": [
    "# The exponential of each of the elements of b\n",
    "np.exp(b)"
   ]
  },
  {
   "cell_type": "code",
   "execution_count": 8,
   "id": "aa51c176",
   "metadata": {},
   "outputs": [
    {
     "data": {
      "text/plain": [
       "array([1.09544512, 1.87082869, 2.25831796])"
      ]
     },
     "execution_count": 8,
     "metadata": {},
     "output_type": "execute_result"
    }
   ],
   "source": [
    "# The square root of each of the elements of b\n",
    "np.sqrt(b)"
   ]
  },
  {
   "cell_type": "markdown",
   "id": "7e2106d2",
   "metadata": {},
   "source": [
    "To get more information on a function just type a ? after the name"
   ]
  },
  {
   "cell_type": "code",
   "execution_count": 9,
   "id": "ef2a6306",
   "metadata": {},
   "outputs": [],
   "source": [
    "np.sqrt?"
   ]
  },
  {
   "cell_type": "code",
   "execution_count": 10,
   "id": "c474ae86",
   "metadata": {},
   "outputs": [
    {
     "data": {
      "text/plain": [
       "3.141592653589793"
      ]
     },
     "execution_count": 10,
     "metadata": {},
     "output_type": "execute_result"
    }
   ],
   "source": [
    "#Often useful!\n",
    "np.pi"
   ]
  },
  {
   "cell_type": "markdown",
   "id": "93aeb58c",
   "metadata": {},
   "source": [
    "Numpy can do pretty much anything you can imagine with arrays. [This](https://numpy.org/doc/stable/user/quickstart.html#functions-and-methods-overview) is a useful list of the main functions that you might need."
   ]
  },
  {
   "cell_type": "markdown",
   "id": "4d8c92c2",
   "metadata": {},
   "source": [
    "## Functions"
   ]
  },
  {
   "cell_type": "markdown",
   "id": "52dc49e6",
   "metadata": {},
   "source": [
    "To define a function the syntax is (note the indenting in the second and third lines - this is mandatory and help you to see what is in and out of the function)"
   ]
  },
  {
   "cell_type": "code",
   "execution_count": 11,
   "id": "45165b40",
   "metadata": {},
   "outputs": [],
   "source": [
    "def add_two_numbers(first_number,second_number) :\n",
    "    sum = first_number + second_number\n",
    "    return sum"
   ]
  },
  {
   "cell_type": "markdown",
   "id": "61be8571",
   "metadata": {},
   "source": [
    "Now you can apply it to some numbers:"
   ]
  },
  {
   "cell_type": "code",
   "execution_count": 12,
   "id": "0049f565",
   "metadata": {},
   "outputs": [
    {
     "name": "stdout",
     "output_type": "stream",
     "text": [
      "c is  3\n",
      "d is  [0 0 0 0]\n"
     ]
    }
   ],
   "source": [
    "# just to numbers\n",
    "c = add_two_numbers(1,2)\n",
    "print(\"c is \", c)\n",
    "\n",
    "# to an array - note that this also works element wise\n",
    "array1 = np.array([1,2,3,4])\n",
    "array2 = np.array([-1,-2,-3,-4])\n",
    "d = add_two_numbers(array1, array2)\n",
    "print(\"d is \", d)"
   ]
  },
  {
   "cell_type": "markdown",
   "id": "08c86521",
   "metadata": {},
   "source": [
    "## Plotting\n",
    "\n",
    "Plotting is handled by matplotlib."
   ]
  },
  {
   "cell_type": "code",
   "execution_count": 13,
   "id": "e1415fe4",
   "metadata": {},
   "outputs": [],
   "source": [
    "import matplotlib.pyplot as plt\n",
    "# This displays the plots in the notebook\n",
    "%matplotlib inline "
   ]
  },
  {
   "cell_type": "code",
   "execution_count": 14,
   "id": "54537730",
   "metadata": {},
   "outputs": [
    {
     "data": {
      "text/plain": [
       "[<matplotlib.lines.Line2D at 0x7fda51ffd190>]"
      ]
     },
     "execution_count": 14,
     "metadata": {},
     "output_type": "execute_result"
    },
    {
     "data": {
      "image/png": "[encoded data removed]",
      "text/plain": [
       "<Figure size 432x288 with 1 Axes>"
      ]
     },
     "metadata": {
      "needs_background": "light"
     },
     "output_type": "display_data"
    }
   ],
   "source": [
    "x = np.arange(0,10,0.1) # Values between 0 and 10 in intervals of 0.1 - note that last entry is 9.9\n",
    "y = np.cos(x)\n",
    "plt.plot(x,y)"
   ]
  },
  {
   "cell_type": "markdown",
   "id": "c5183bf0",
   "metadata": {},
   "source": [
    "Can make this more fancy:"
   ]
  },
  {
   "cell_type": "code",
   "execution_count": 15,
   "id": "5fe9155d",
   "metadata": {},
   "outputs": [
    {
     "data": {
      "text/plain": [
       "Text(0, 0.5, 'y=cos(x)')"
      ]
     },
     "execution_count": 15,
     "metadata": {},
     "output_type": "execute_result"
    },
    {
     "data": {
      "image/png": "[encoded data removed]",
      "text/plain": [
       "<Figure size 432x288 with 1 Axes>"
      ]
     },
     "metadata": {
      "needs_background": "light"
     },
     "output_type": "display_data"
    }
   ],
   "source": [
    "x = np.arange(0,10,0.1) # Values between 0 and 10 in intervals of 0.1 - note that last entry is 9.9\n",
    "y = np.cos(x)\n",
    "plt.plot(x,y)\n",
    "plt.grid()\n",
    "plt.xlim(0,8)\n",
    "plt.ylim(-1.5,1.5)\n",
    "plt.xlabel(\"x\")\n",
    "plt.ylabel(\"y=cos(x)\")"
   ]
  },
  {
   "cell_type": "markdown",
   "id": "dd1dc9cf",
   "metadata": {},
   "source": [
    "Many options for plotting! See [docs here](https://matplotlib.org/stable/users/getting_started/)."
   ]
  },
  {
   "cell_type": "markdown",
   "id": "cb6ee4f9",
   "metadata": {},
   "source": [
    "# Scipy\n",
    "This package gives us access to many fundamental algorithms for scientific computing in Python. Usually we import specific sub packages from within scipy so we can directly use the functions in them, but don't give them an alias. For example:"
   ]
  },
  {
   "cell_type": "code",
   "execution_count": 16,
   "id": "dc99a863",
   "metadata": {},
   "outputs": [],
   "source": [
    "from scipy import linalg"
   ]
  },
  {
   "cell_type": "markdown",
   "id": "be1924ea",
   "metadata": {},
   "source": [
    "Let's invert a matrix - note the problem with finite computational values!"
   ]
  },
  {
   "cell_type": "code",
   "execution_count": 17,
   "id": "9f6b27c4",
   "metadata": {},
   "outputs": [
    {
     "name": "stdout",
     "output_type": "stream",
     "text": [
      "A is \n",
      " [[1 3 5]\n",
      " [2 5 1]\n",
      " [2 3 8]]\n",
      "The inverse of A is \n",
      " [[-1.48  0.36  0.88]\n",
      " [ 0.56  0.08 -0.36]\n",
      " [ 0.16 -0.12  0.04]]\n",
      "The product of A and B its inverse is \n",
      " [[ 1.00000000e+00 -1.11022302e-16 -5.55111512e-17]\n",
      " [ 3.05311332e-16  1.00000000e+00  1.87350135e-16]\n",
      " [ 2.22044605e-16 -1.11022302e-16  1.00000000e+00]]\n"
     ]
    }
   ],
   "source": [
    "A = np.array([[1,3,5],[2,5,1],[2,3,8]])\n",
    "print(\"A is \\n\", A)\n",
    "B = linalg.inv(A)\n",
    "print(\"The inverse of A is \\n\", B)\n",
    "print(\"The product of A and B its inverse is \\n\", A.dot(B))"
   ]
  },
  {
   "cell_type": "markdown",
   "id": "86b1a2cb",
   "metadata": {},
   "source": [
    "Remember the question mark for more information on functions:"
   ]
  },
  {
   "cell_type": "code",
   "execution_count": 18,
   "id": "0a673f7d",
   "metadata": {},
   "outputs": [],
   "source": [
    "linalg.det?"
   ]
  },
  {
   "cell_type": "markdown",
   "id": "c9fd0a85",
   "metadata": {},
   "source": [
    "SciPy provides algorithms for optimization, integration, interpolation, eigenvalue problems, algebraic equations, differential equations, statistics and many other classes of problems. We will discover more in the course, but for more information see the [User Guide](https://docs.scipy.org/doc/scipy/tutorial/index.html#user-guide)."
   ]
  }
 ],
 "metadata": {
  "kernelspec": {
   "display_name": "Python 3 (ipykernel)",
   "language": "python",
   "name": "python3"
  },
  "language_info": {
   "codemirror_mode": {
    "name": "ipython",
    "version": 3
   },
   "file_extension": ".py",
   "mimetype": "text/x-python",
   "name": "python",
   "nbconvert_exporter": "python",
   "pygments_lexer": "ipython3",
   "version": "3.9.18"
  }
 },
 "nbformat": 4,
 "nbformat_minor": 5
}
