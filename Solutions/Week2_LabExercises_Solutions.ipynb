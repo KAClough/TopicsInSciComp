{
 "cells": [
  {
   "cell_type": "markdown",
   "id": "8677fe39",
   "metadata": {},
   "source": [
    "## Week 2 Lab exercises\n",
    "\n",
    "In this week we will use python to explore strange new worlds, to seek out new life and new civilisation, and to boldly code what no one has coded before. \n",
    "\n",
    "The goal is to familiarise yourself with using functions, loops, arrays and plotting in Python, and to illustrate some of the software carpentry points that we discussed in the lecture."
   ]
  },
  {
   "cell_type": "code",
   "execution_count": 11,
   "id": "0d8bde64",
   "metadata": {},
   "outputs": [],
   "source": [
    "# first we import the libraries we need\n",
    "import numpy as np\n",
    "import matplotlib.pyplot as plt\n",
    "import time\n",
    "\n",
    "# The following lines makes the plots appear in another window - if using AppsAnywhere they may appear\n",
    "# in another window behind the notebook, and you may have to rearrange the desktop to see them. However, \n",
    "# I've commented it out because it doesn't always work. You can try it if you have time.\n",
    "# %matplotlib \n",
    "\n",
    "# This makes the plots appear in the notebook\n",
    "%matplotlib inline"
   ]
  },
  {
   "cell_type": "markdown",
   "id": "2b399aad",
   "metadata": {},
   "source": [
    "### ACTIVITY 1: \n",
    "In the code below, change the line as marked (UPDATE ME) to get the asteroid data from the data file `asteroid_locations.dat` that is in the `/data` folder"
   ]
  },
  {
   "cell_type": "code",
   "execution_count": 12,
   "id": "2bceae51",
   "metadata": {},
   "outputs": [
    {
     "data": {
      "image/png": "[encoded data removed]",
      "text/plain": [
       "<Figure size 432x288 with 1 Axes>"
      ]
     },
     "metadata": {
      "needs_background": "light"
     },
     "output_type": "display_data"
    }
   ],
   "source": [
    "# Set up the plotting\n",
    "\n",
    "def plot_asteroid_field(ax) :\n",
    "    plt.axis([0,10.5,-4,4])\n",
    "    major_ticks = np.arange(0, 11, 1)\n",
    "    ax.set_xticks(major_ticks)\n",
    "    plt.xlabel(\"time / x position\")\n",
    "    plt.ylabel(\"y position\")\n",
    "    ax.set_aspect('equal')\n",
    "    ax.grid(which='major', alpha=0.8)\n",
    "\n",
    "    # Mark the asteroid positions onto the plot - read in the data from data/asteroid_locations.dat\n",
    "    # HINT: the function you need is called loadtxt\n",
    "    asteroid_locations= np.loadtxt(\"data/asteroid_locations.dat\")\n",
    "    for location in asteroid_locations :\n",
    "        circle=plt.Circle(location, 0.5 , color='r')\n",
    "        ax.add_artist(circle)\n",
    "    plt.pause(0.3)\n",
    "\n",
    "# Test the plot\n",
    "fig = plt.figure()\n",
    "ax = plt.gcf().gca()\n",
    "plot_asteroid_field(ax)\n",
    "plt.show()"
   ]
  },
  {
   "cell_type": "code",
   "execution_count": 13,
   "id": "0c6bb38e",
   "metadata": {},
   "outputs": [
    {
     "name": "stdout",
     "output_type": "stream",
     "text": [
      "The list of times at the start is  [ 0  1  2  3  4  5  6  7  8  9 10]\n",
      "The list of y positions at the start is  [0 0 0 0 0 0 0 0 0 0 0]\n"
     ]
    }
   ],
   "source": [
    "# set up a list to store the times and positions\n",
    "list_of_times = np.array([0, 1, 2, 3, 4, 5, 6, 7, 8, 9, 10])\n",
    "list_of_y_positions = np.zeros_like(list_of_times)\n",
    "\n",
    "# print off the initial values of the times and positions\n",
    "print(\"The list of times at the start is \", list_of_times)\n",
    "print(\"The list of y positions at the start is \", list_of_y_positions)"
   ]
  },
  {
   "cell_type": "markdown",
   "id": "03a04402",
   "metadata": {},
   "source": [
    "### ACTIVITY 2: \n",
    "\n",
    "Captain Katy has asked you to plot a flight path through the asteroid field. If you run the code below you will see that the path does not currently avoid the asteroids :-( Update it so that it does! \n",
    "\n",
    "Also update so that the distance moved is calculated, and try to minimise this.\n",
    "\n",
    "RULES:\n",
    "\n",
    "- Just like in a retro video game, the ship must move one step forward in the x direction at every timestep, and you can only change its movement in the y direction to avoid the asteroids.\n",
    "- You should move in whole steps in the (x and) y direction, so you are always on integer coordinates.\n",
    "- You must end the flight back at position y=0.\n",
    "- Don't hit the asteroids! Note that their radius is 0.5 of a distance unit, so it is not sufficient to simply avoid the coordinates on which they are centred.\n",
    "\n",
    "#### BUT FIRST\n",
    "\n",
    "Remember *defensive programming*? You will see that the code does not check that it does what it should - i.e., it does not check that we have not hit an asteroid, and that we return to the zero position at the last step. Implement tests to check the rules _BEFORE_ you implement the code to set the path, and use asserts to make it quit with an error message if it fails.\n",
    "\n",
    "*TIP: You probably want to write any tests as a separate function. Would it be better to call them at each step or just at the end?*"
   ]
  },
  {
   "cell_type": "code",
   "execution_count": 14,
   "id": "dc06a2ad",
   "metadata": {},
   "outputs": [],
   "source": [
    "# First make the tests\n",
    "\n",
    "# Rule 1: always moving forward in x\n",
    "# Note the need for .all() to enforce equality for all elements\n",
    "def test_x_movement_unmodified(a_list_of_times) :\n",
    "    time_size = np.size(a_list_of_times)\n",
    "    assert (a_list_of_times == np.arange(time_size)).all(), 'It is illegal to change the time / x steps'\n",
    "\n",
    "# Test for the test\n",
    "# broken_list_of_times = np.array([1, 1, 2, 3, 4, 5, 6, 7, 8, 9, 10])\n",
    "# test_x_movement_unmodified(broken_list_of_times)\n",
    "\n",
    "# Rule 2: move in whole steps\n",
    "# Note that by definition the type of all elements of a numpy array are\n",
    "# the same\n",
    "def test_y_movement_integer(a_list_of_y_positions) :\n",
    "    assert (a_list_of_y_positions.dtype == 'int64'), 'It is illegal to move in non integer steps'\n",
    "\n",
    "# Test for the test\n",
    "# broken_list_of_y_positions = np.array([0.5, 0, 0, 0, 0, 0, 0, 0, 0, 0, 0])\n",
    "# test_y_movement_integer(broken_list_of_y_positions)\n",
    "\n",
    "# Rule 3: end back at position y=0\n",
    "def test_final_position(a_list_of_y_positions) :\n",
    "    last_index = np.size(a_list_of_y_positions) - 1\n",
    "    assert a_list_of_y_positions[last_index] == 0, 'You must end at y=0'\n",
    "\n",
    "# Test for the test\n",
    "# broken_list_of_y_positions = np.array([0, 0, 0, 0, 0, 0, 0, 0, 0, 0, 10])\n",
    "# test_final_position(broken_list_of_y_positions)\n",
    "\n",
    "# Rule 4: Avoid the asteroids!\n",
    "def test_avoiding_asteroids(a_list_of_times, a_list_of_y_positions) :\n",
    "    asteroid_locations= np.loadtxt(\"data/asteroid_locations.dat\")\n",
    "    \n",
    "    \n",
    "    # This one just tests we are avoiding the asteroids at the integer locations\n",
    "    for iloc, location in enumerate(asteroid_locations) :\n",
    "        for ix, x_position in enumerate(a_list_of_times) :\n",
    "            distance_to_asteroid = np.sqrt((location[0] - x_position)**2.0 \n",
    "                                         + (location[1] - a_list_of_y_positions[ix])**2.0)\n",
    "            message = 'You have hit an asteroid at ' + str(location)\n",
    "            assert distance_to_asteroid > 0.5, message\n",
    "            \n",
    "    # this one does the harder case of actually making sure the lines don't cross the spheres \n",
    "    for iloc, location in enumerate(asteroid_locations) :    \n",
    "        for ix, x_position in enumerate(a_list_of_times) :\n",
    "            if ix > 0 : # skip the first point\n",
    "                \n",
    "                # First find the equation of the line through \n",
    "                # the segment between point ix and ix-1\n",
    "                # y = mx + c\n",
    "                # For readability assign new names to the elements here, and make sure\n",
    "                # they are treated as floats\n",
    "                x2 = float(a_list_of_times[ix])\n",
    "                x1 = float(a_list_of_times[ix-1])\n",
    "                y2 = float(a_list_of_y_positions[ix])\n",
    "                y1 = float(a_list_of_y_positions[ix-1])\n",
    "                x_asteroid = float(location[0])\n",
    "                y_asteroid = float(location[1])\n",
    "                m_line = (y2 - y1) / (x2 - x1)\n",
    "                c_line = y1 - m_line * x1\n",
    "                \n",
    "                # The line that intersects perpendicularly\n",
    "                # Treat the special case of zero gradient\n",
    "                # (Note that we can never have a vertical line as we always need to \n",
    "                # move forward - could add an assert here for this, but we have it\n",
    "                # elsewhere so it seems overkill)\n",
    "                if (m_line == 0.0) :\n",
    "                    x_intersect = x_asteroid\n",
    "                    y_intersect = y2\n",
    "                    \n",
    "                # Now the more general case\n",
    "                else : \n",
    "                    m_perpendicular = -1.0 / m_line\n",
    "                    c_perpendicular = y_asteroid - m_perpendicular * x_asteroid\n",
    "                \n",
    "                    # Now find the intersection point (x_intersect, y_intersect)\n",
    "                    x_intersect = (c_line - c_perpendicular) / (m_perpendicular - m_line)\n",
    "                    y_intersect = m_line * x_intersect + c_line\n",
    "            \n",
    "                point_is_within_segment = False\n",
    "                if ((x_intersect <= x2) and (x_intersect >= x1) and\n",
    "                    (y_intersect <= y2) and (y_intersect >= y1)) :\n",
    "                    point_is_within_segment = True\n",
    "                \n",
    "                if point_is_within_segment :  \n",
    "                \n",
    "                    # Find the minimum distance between asteroid and line\n",
    "                    distance_to_asteroid = np.sqrt((x_intersect - x_asteroid)**2.0 + \n",
    "                                                   (y_intersect - y_asteroid)**2.0)\n",
    "                    avoids_asteroids = (distance_to_asteroid > 0.5)\n",
    "             \n",
    "                    message = 'You have hit an asteroid at ' + str(location)\n",
    "                    assert avoids_asteroids, message\n",
    "            \n",
    "# Test for the test\n",
    "# broken_list_of_y_positions = np.array([0, -1, -2, 1, 0, 0, 0, 0, 0, 0, 0])\n",
    "# initial_list_of_times = np.array([0, 1, 2, 3, 4, 5, 6, 7, 8, 9, 10])\n",
    "# test_avoiding_asteroids(initial_list_of_times, broken_list_of_y_positions)\n",
    "\n",
    "# Function for calculating the distance travelled\n",
    "def calculate_distance_travelled(a_list_of_times, a_list_of_y_positions) :\n",
    "    distance_travelled = 0\n",
    "    for ix, x_position in enumerate(a_list_of_times) :\n",
    "        if ix > 0 :\n",
    "            distance_travelled += np.sqrt((a_list_of_times[ix-1] - a_list_of_times[ix])**2.0 \n",
    "                                         +(a_list_of_y_positions[ix-1] - a_list_of_y_positions[ix])**2.0)\n",
    "    return distance_travelled"
   ]
  },
  {
   "cell_type": "code",
   "execution_count": 15,
   "id": "13bbe9ca",
   "metadata": {},
   "outputs": [
    {
     "name": "stdout",
     "output_type": "stream",
     "text": [
      "The list of times at the end is  [ 0  1  2  3  4  5  6  7  8  9 10]\n",
      "The list of y positions at the end is  [0 0 0 1 0 0 0 0 0 0 0]\n",
      "The time taken to plot the course was  0.03196406364440918  seconds\n"
     ]
    },
    {
     "data": {
      "image/png": "[encoded data removed]",
      "text/plain": [
       "<Figure size 432x288 with 1 Axes>"
      ]
     },
     "metadata": {
      "needs_background": "light"
     },
     "output_type": "display_data"
    },
    {
     "name": "stdout",
     "output_type": "stream",
     "text": [
      "I moved a total of  10.82842712474619  units\n"
     ]
    }
   ],
   "source": [
    "# Plot again the asteroid field, so that we can plot the path on top of it\n",
    "\n",
    "# Uncomment this to make the plotting interactive so we can update the path as we fly\n",
    "# Need to also uncomment the %matplotlib command in the first cell, and plot.pause() below\n",
    "# plt.ion()\n",
    "\n",
    "fig = plt.figure()\n",
    "\n",
    "# go through the list of times, where index is the index within the \n",
    "# list, and time_now is the entry at that index\n",
    "\n",
    "start_time = time.time()\n",
    "\n",
    "for index, time_now in enumerate(list_of_times) :\n",
    "    \n",
    "    if (time_now == 3) :\n",
    "        step_size = 1\n",
    "        \n",
    "    elif (time_now == 4) :\n",
    "        step_size = -1\n",
    "        \n",
    "    # if the time is equal to to the last element\n",
    "    elif (time_now == np.size(list_of_y_positions) - 1) :\n",
    "        # move back to the start in one timestep\n",
    "        step_size = - list_of_y_positions[index - 1]\n",
    "\n",
    "    # finally, give the default option for all other cases using 'else'\n",
    "    else :\n",
    "        # nothing happens at other times\n",
    "        step_size = 0\n",
    "    \n",
    "    if(index > 0) :\n",
    "        list_of_y_positions[index] = list_of_y_positions[index - 1] + step_size\n",
    "    \n",
    "    else :\n",
    "        list_of_y_positions[index] = 0\n",
    "        \n",
    "    position_now = list_of_y_positions[index]\n",
    "    plt.plot(time_now, position_now, 'o')\n",
    "    # Uncomment this for interactive version\n",
    "    # plt.pause(0.4)\n",
    "\n",
    "    #Impose the tests\n",
    "    test_y_movement_integer(list_of_y_positions)\n",
    "    test_x_movement_unmodified(list_of_times)\n",
    "\n",
    "end_time = time.time()    \n",
    "\n",
    "print(\"The list of times at the end is \", list_of_times)\n",
    "print(\"The list of y positions at the end is \", list_of_y_positions)\n",
    "print(\"The time taken to plot the course was \", end_time - start_time, \" seconds\")\n",
    "\n",
    "# Test the final position and if we avoid the asteroids\n",
    "test_final_position(list_of_y_positions)\n",
    "test_avoiding_asteroids(list_of_times, list_of_y_positions)\n",
    "\n",
    "plt.plot(list_of_times, list_of_y_positions, 'g-')\n",
    "ax1 = plt.gcf().gca() #this stands for get current figure, get current axis\n",
    "plot_asteroid_field(ax1)\n",
    "plt.show()\n",
    "\n",
    "# Uncomment to save the figure\n",
    "# plt.savefig(\"AsteroidPath.png\")\n",
    "\n",
    "# Print out some information\n",
    "total_distance_moved = calculate_distance_travelled(list_of_times, list_of_y_positions)\n",
    "print(\"I moved a total of \", total_distance_moved, \" units\")"
   ]
  },
  {
   "cell_type": "markdown",
   "id": "14b33155",
   "metadata": {},
   "source": [
    "### ACTIVITY 3:\n",
    "\n",
    "Now we are on an exploratory mission. Captian Katy wants you to plot a course for all of the blue (M or Minshara-class) planets on the map contained in `data/planet_locations.dat`, but not touching any of the other dangerous D-class pink planets. \n",
    "\n",
    "Again you need to update the code below to get the data from the data files.\n",
    "\n",
    "How could the read-in of the data (in particular checking of the class of the planet) be improved?"
   ]
  },
  {
   "cell_type": "code",
   "execution_count": 16,
   "id": "7c8121ee",
   "metadata": {},
   "outputs": [
    {
     "data": {
      "image/png": "[encoded data removed]",
      "text/plain": [
       "<Figure size 432x288 with 1 Axes>"
      ]
     },
     "metadata": {
      "needs_background": "light"
     },
     "output_type": "display_data"
    }
   ],
   "source": [
    "# Plot the planetary locations\n",
    "\n",
    "def plot_planet_locations(ax) :\n",
    "    plt.axis([0,15.5,-4,4])\n",
    "    major_ticks = np.arange(0, 16, 1)\n",
    "    ax.set_xticks(major_ticks)\n",
    "    plt.xlabel(\"time / x position\")\n",
    "    plt.ylabel(\"position\")\n",
    "    ax.set_aspect('equal')\n",
    "    ax.grid(which='major', alpha=0.8)\n",
    "\n",
    "    # Mark the planet positions onto the plot - read in the data from data/planet_locations.dat\n",
    "    # HINT: the function you need is called loadtxt\n",
    "    planet_locations= np.loadtxt(\"data/planet_locations.dat\")\n",
    "\n",
    "    for index, location in enumerate(planet_locations) :\n",
    "        is_minshara_class =  (location[2] == 1)\n",
    "        coordinates = (location[0], location[1])\n",
    "        if(is_minshara_class) :\n",
    "            circle=plt.Circle(coordinates, 0.5, color='b')\n",
    "            plt.gcf().gca().add_artist(circle)\n",
    "        else : # other planets are dangerous D class planets\n",
    "            assert location[2] == 0 # Check it is not another planet type\n",
    "            circle=plt.Circle(coordinates, 0.5, color='m')\n",
    "            plt.gcf().gca().add_artist(circle)  \n",
    "\n",
    "# Test the plot\n",
    "fig = plt.figure()\n",
    "ax = plt.gcf().gca()\n",
    "plot_planet_locations(ax)\n",
    "plt.show()"
   ]
  },
  {
   "cell_type": "markdown",
   "id": "d787ce7d",
   "metadata": {},
   "source": [
    "### ACTIVITY 4:\n",
    "\n",
    "Update the code below to make sure you visit all the M class planets as your Captain has asked (same rules of motion as above). What is the shortest distance in which you can do this? Update the code to calculate your value.\n",
    "\n",
    "Again, you should _first write code that checks that the code does what it should_, and then implement the actual actions."
   ]
  },
  {
   "cell_type": "code",
   "execution_count": 17,
   "id": "2f5fb331",
   "metadata": {},
   "outputs": [],
   "source": [
    "# Rule 4: Check we visited all the M class planets\n",
    "def test_visited_planets(a_list_of_times, a_list_of_y_positions) :\n",
    "    planet_data = np.loadtxt(\"data/planet_locations.dat\")\n",
    "    for idat, planet_datum in enumerate(planet_data) :\n",
    "        is_m_class_planet = (planet_datum[2] == 1)\n",
    "        if is_m_class_planet :\n",
    "            location = (planet_datum[0], planet_datum[1])\n",
    "            have_visited_planet = False\n",
    "            for ix, x_position in enumerate(a_list_of_times) :\n",
    "                locations_match = (a_list_of_times[ix] == location[0] and a_list_of_y_positions[ix] == location[1])\n",
    "                if (locations_match) :\n",
    "                    have_visited_planet = True\n",
    "                                   \n",
    "            message = 'You have missed the planet at ' + str(location)\n",
    "            assert have_visited_planet, message\n",
    "            \n",
    "# Test for the test\n",
    "# list_of_times = np.arange(16)\n",
    "# broken_list_of_y_positions = np.array([ 0, -2, -2, -2, -2, -2, -2, -2, -3, -2, -2, -2,  0,  2,  1,  0])\n",
    "# test_visited_planets(list_of_times, broken_list_of_y_positions)"
   ]
  },
  {
   "cell_type": "code",
   "execution_count": 18,
   "id": "f9a6cc6f",
   "metadata": {},
   "outputs": [
    {
     "name": "stdout",
     "output_type": "stream",
     "text": [
      "The list of times at the start is  [ 0  1  2  3  4  5  6  7  8  9 10 11 12 13 14 15]\n",
      "The list of positions at the start is  [0 0 0 0 0 0 0 0 0 0 0 0 0 0 0 0]\n",
      "The time taken to plot the course was  0.03196406364440918  seconds\n",
      "The list of times at the end is  [ 0  1  2  3  4  5  6  7  8  9 10 11 12 13 14 15]\n",
      "The list of positions at the end is  [ 0 -2 -2 -2 -2 -2 -2 -2 -3 -2 -2 -2  0  2  1  0]\n"
     ]
    },
    {
     "data": {
      "image/png": "[encoded data removed]",
      "text/plain": [
       "<Figure size 432x288 with 1 Axes>"
      ]
     },
     "metadata": {
      "needs_background": "light"
     },
     "output_type": "display_data"
    },
    {
     "name": "stdout",
     "output_type": "stream",
     "text": [
      "I moved a total of  20.365058181991753  units\n"
     ]
    }
   ],
   "source": [
    "# Plot again the asteroid field, so that we can plot the path on top of it\n",
    "#plt.ion() # Make the plotting interactive so we can update the path as we fly\n",
    "fig = plt.figure()\n",
    "ax = plt.gcf().gca()\n",
    "plot_planet_locations(ax)   \n",
    "\n",
    "# set up a list to store the times and positions\n",
    "final_time = 15\n",
    "list_of_times = np.arange(final_time+1)\n",
    "list_of_y_positions = np.zeros_like(list_of_times)\n",
    "\n",
    "# print off the initial values of the times and positions\n",
    "print(\"The list of times at the start is \", list_of_times)\n",
    "print(\"The list of positions at the start is \", list_of_y_positions)\n",
    "print(\"The time taken to plot the course was \", end_time - start_time, \" seconds\")\n",
    "\n",
    "start_time = time.time()\n",
    "\n",
    "# go through the list of times, where index is the index within the \n",
    "# list, and time_now is the entry at that index\n",
    "for index, time_now in enumerate(list_of_times) :\n",
    "    \n",
    "    if (time_now == 9) :\n",
    "        step_size = 1\n",
    "          \n",
    "    elif (time_now == 8 or time_now == 14) :\n",
    "        step_size = -1\n",
    "        \n",
    "    elif (time_now > 11 and time_now < 14) :\n",
    "        step_size = 2\n",
    "    \n",
    "    elif (time_now > 0 and time_now < 2) :\n",
    "        step_size = -2\n",
    "\n",
    "    # if the time is equal to to the last element\n",
    "    elif (time_now == np.size(list_of_y_positions) - 1) :\n",
    "        # move back to the start in one timestep\n",
    "        step_size = - list_of_y_positions[index - 1]\n",
    "\n",
    "    # finally, give the default option for all other cases using 'else'\n",
    "    else :\n",
    "        # nothing happens at other times\n",
    "        step_size = 0\n",
    "    \n",
    "    if(index > 0) :\n",
    "        list_of_y_positions[index] = list_of_y_positions[index - 1] + step_size\n",
    "    \n",
    "    else :\n",
    "        list_of_y_positions[index] = 0\n",
    "\n",
    "    position_now = list_of_y_positions[index]\n",
    "    plt.plot(time_now, position_now, 'o')\n",
    "    #plt.pause(0.2)\n",
    "    \n",
    "end_time = time.time()\n",
    "\n",
    "print(\"The list of times at the end is \", list_of_times)\n",
    "print(\"The list of positions at the end is \", list_of_y_positions)\n",
    "\n",
    "plt.plot(list_of_times, list_of_y_positions, 'g-')\n",
    "plt.show()\n",
    "test_visited_planets(list_of_times, list_of_y_positions)\n",
    "test_final_position(list_of_y_positions)\n",
    "\n",
    "# Uncomment to save the figure\n",
    "# plt.savefig(\"PlanetPath.png\")\n",
    "\n",
    "# Calculate and print out some information\n",
    "total_distance_moved = calculate_distance_travelled(list_of_times, list_of_y_positions)\n",
    "print(\"I moved a total of \", total_distance_moved, \" units\")"
   ]
  },
  {
   "cell_type": "markdown",
   "id": "fc8f692b",
   "metadata": {},
   "source": [
    "### ACTIVITY 5:\n",
    "\n",
    "Which software carpentry features are already implemented?"
   ]
  },
  {
   "cell_type": "markdown",
   "id": "d716d404",
   "metadata": {},
   "source": [
    "1. There are comments to help the reader know what is happening, but not too many\n",
    "2. The names respect the rules about functions being verbs, variables being nouns and bools being questions.\n",
    "3. The names of the functions / variables make it readable even without comments, they are not abbreviated\n",
    "4. It is saved in GitHub\n",
    "5. It has tests implemented before the code was implemented\n",
    "6. The tests use assertions to check validity of data\n",
    "7. Where there are similar operations on e.g. x and y coordinates, I try to align the code blocks so that the y are directly under the x (see for example distance_to_asteroid) - this aids visual debugging by checking the indices match"
   ]
  },
  {
   "cell_type": "markdown",
   "id": "89916b20",
   "metadata": {},
   "source": [
    "### ACTIVITY 6:\n",
    "\n",
    "*Timing*: the code is very short but it is still useful to time the `for` loop to see how long it is taking and understand how it could be optimised. Add something that returns the time taken for it to run. Change the pause time for the plotting and check that the time to run changes appropriately. (I would just google \"how to time function in python\")."
   ]
  },
  {
   "cell_type": "markdown",
   "id": "058d6f9b",
   "metadata": {},
   "source": [
    "### ACTIVITY 7:\n",
    "\n",
    "Suggest other ways to improve the code. Free to use your imagination and suggest major changes (you don't need to implement them unless you want to)."
   ]
  },
  {
   "cell_type": "markdown",
   "id": "dce67f18",
   "metadata": {},
   "source": [
    "1. The use of elements of list_of_times as interchangeable with x coordinates is a bit poor - one should really define a speed and use that to calculate a list_of_x_positions from the times. \n",
    "\n",
    "2. Better still, since the rules require one step forward at every times step, we could probably do away with the list_of_times altogether and create the x coordinates in the loop - then we wouldn't need an assert to check the list hasn't been modified. \n",
    "\n",
    "3. It would be better to save and access the x and y coordinates as a list of tuples (x,y) rather than having them in separate vectors.\n",
    "\n",
    "4. Maybe we could figure out the step_size needed dynamically by checking the next x-coordinate locations ahead for asteroids or planets, and minimising the distance moved. Disadvantage : this will find a local minimum distance at each step but not the global one, but is more liked to be how an AI system would navigate in time.\n",
    "\n",
    "5. We could write a path finder algorithm like those used by google maps to find the minimum path avoiding or visiting certain points.\n",
    "\n",
    "Please let me know any other ideas you had and I would be happy to add them here!"
   ]
  }
 ],
 "metadata": {
  "kernelspec": {
   "display_name": "Python 3 (ipykernel)",
   "language": "python",
   "name": "python3"
  },
  "language_info": {
   "codemirror_mode": {
    "name": "ipython",
    "version": 3
   },
   "file_extension": ".py",
   "mimetype": "text/x-python",
   "name": "python",
   "nbconvert_exporter": "python",
   "pygments_lexer": "ipython3",
   "version": "3.9.7"
  }
 },
 "nbformat": 4,
 "nbformat_minor": 5
}
